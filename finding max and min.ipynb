{
 "cells": [
  {
   "cell_type": "code",
   "execution_count": 4,
   "id": "6f5cfd53-8f26-4db8-bbe1-cd733548c0ca",
   "metadata": {},
   "outputs": [
    {
     "data": {
      "text/plain": [
       "(10, 50)"
      ]
     },
     "execution_count": 4,
     "metadata": {},
     "output_type": "execute_result"
    }
   ],
   "source": [
    "import numpy as np\n",
    "x=np.array([10,20,30,40,50])\n",
    "def min_max(x):\n",
    "    min_e=np.min(x)\n",
    "    max_e=np.max(x)\n",
    "    return min_e,max_e\n",
    "min_max(x)"
   ]
  },
  {
   "cell_type": "code",
   "execution_count": null,
   "id": "c0e2eff0-8246-440f-8b90-7241ba52f895",
   "metadata": {},
   "outputs": [],
   "source": []
  }
 ],
 "metadata": {
  "kernelspec": {
   "display_name": "Python 3 (ipykernel)",
   "language": "python",
   "name": "python3"
  },
  "language_info": {
   "codemirror_mode": {
    "name": "ipython",
    "version": 3
   },
   "file_extension": ".py",
   "mimetype": "text/x-python",
   "name": "python",
   "nbconvert_exporter": "python",
   "pygments_lexer": "ipython3",
   "version": "3.12.4"
  }
 },
 "nbformat": 4,
 "nbformat_minor": 5
}
