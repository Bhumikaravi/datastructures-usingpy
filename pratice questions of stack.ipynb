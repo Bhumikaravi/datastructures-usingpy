{
 "cells": [
  {
   "cell_type": "code",
   "execution_count": 1,
   "id": "94edf309-3ee0-44c6-90c8-534bd2058d76",
   "metadata": {},
   "outputs": [
    {
     "name": "stdout",
     "output_type": "stream",
     "text": [
      "Original String: monkey\n",
      "Reversed String: yeknom\n"
     ]
    }
   ],
   "source": [
    "def reverse_string_using_stack(s):\n",
    "    stack = []  # Initialize an empty stack\n",
    "\n",
    "    # Push all characters onto the stack\n",
    "    for char in s:\n",
    "        stack.append(char)\n",
    "    \n",
    "    reversed_str = \"\"\n",
    "\n",
    "    # Pop characters from stack and build the reversed string\n",
    "    while stack:\n",
    "        reversed_str += stack.pop()\n",
    "    \n",
    "    return reversed_str\n",
    "\n",
    "# Example usage\n",
    "input_string = \"monkey\"\n",
    "reversed_string = reverse_string_using_stack(input_string)\n",
    "print(\"Original String:\", input_string)\n",
    "print(\"Reversed String:\", reversed_string)"
   ]
  },
  {
   "cell_type": "code",
   "execution_count": null,
   "id": "f3d67164-4be8-4870-a4f7-4669372eac5f",
   "metadata": {},
   "outputs": [],
   "source": [
    "Here’s a Python implementation following the exact steps described in the slides:\n",
    "\n",
    "Python Code:\n",
    "\n",
    "def reverse_string_using_stack(s):\n",
    "    stack = []  # Step 1: Initialize an empty stack\n",
    "\n",
    "    # Step 2: Push all characters of the string onto the stack\n",
    "    for char in s:\n",
    "        stack.append(char)\n",
    "    \n",
    "    r = []  # Step 3: Initialize an empty list to store reversed characters\n",
    "\n",
    "    # Step 4: Pop characters from stack and append to r[]\n",
    "    while stack:\n",
    "        r.append(stack.pop())\n",
    "    \n",
    "    # Step 5: Convert list back to a string and return\n",
    "    return \"\".join(r)\n",
    "\n",
    "# Example usage\n",
    "input_string = \"monkey\"\n",
    "reversed_string = reverse_string_using_stack(input_string)\n",
    "print(\"Original String:\", input_string)\n",
    "print(\"Reversed String:\", reversed_string)\n"
   ]
  }
 ],
 "metadata": {
  "kernelspec": {
   "display_name": "Python 3 (ipykernel)",
   "language": "python",
   "name": "python3"
  },
  "language_info": {
   "codemirror_mode": {
    "name": "ipython",
    "version": 3
   },
   "file_extension": ".py",
   "mimetype": "text/x-python",
   "name": "python",
   "nbconvert_exporter": "python",
   "pygments_lexer": "ipython3",
   "version": "3.12.4"
  }
 },
 "nbformat": 4,
 "nbformat_minor": 5
}
