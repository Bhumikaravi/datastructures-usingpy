{
  "nbformat": 4,
  "nbformat_minor": 0,
  "metadata": {
    "colab": {
      "provenance": []
    },
    "kernelspec": {
      "name": "python3",
      "display_name": "Python 3"
    },
    "language_info": {
      "name": "python"
    }
  },
  "cells": [
    {
      "cell_type": "code",
      "execution_count": 1,
      "metadata": {
        "id": "1atBVdZ7oUoP",
        "outputId": "3cd017ab-1053-4346-aba7-829a34e67a71",
        "colab": {
          "base_uri": "https://localhost:8080/"
        }
      },
      "outputs": [
        {
          "output_type": "stream",
          "name": "stdout",
          "text": [
            "1 -> 2 -> 3 -> None\n"
          ]
        }
      ],
      "source": [
        "# Define a class for the Node\n",
        "class Node:\n",
        "    def __init__(self, data):\n",
        "        self.data = data  # data in the node\n",
        "        self.next = None  # pointer to the next node\n",
        "\n",
        "# Define a class for the LinkedList\n",
        "class LinkedList:\n",
        "    def __init__(self):\n",
        "        self.head = None  # initially, the list is empty\n",
        "\n",
        "    # Add a new node at the end\n",
        "    def append(self, data):\n",
        "        new_node = Node(data)\n",
        "        if not self.head:  # If the list is empty\n",
        "            self.head = new_node\n",
        "            return\n",
        "        last = self.head\n",
        "        while last.next:  # Traverse to the last node\n",
        "            last = last.next\n",
        "        last.next = new_node  # Update the next of the last node to the new node\n",
        "\n",
        "    # Print the linked list\n",
        "    def print_list(self):\n",
        "        temp = self.head\n",
        "        while temp:  # Traverse through the list\n",
        "            print(temp.data, end=\" -> \")\n",
        "            temp = temp.next\n",
        "        print(\"None\")\n",
        "\n",
        "# Create a LinkedList and append nodes to it\n",
        "linked_list = LinkedList()\n",
        "linked_list.append(1)\n",
        "linked_list.append(2)\n",
        "linked_list.append(3)\n",
        "\n",
        "# Print the linked list\n",
        "linked_list.print_list()\n"
      ]
    }
  ]
}