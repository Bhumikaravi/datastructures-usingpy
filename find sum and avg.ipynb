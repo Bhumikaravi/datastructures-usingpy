{
 "cells": [
  {
   "cell_type": "code",
   "execution_count": 1,
   "id": "0d61ecde-84e4-478d-a7fa-67889e57f9d9",
   "metadata": {},
   "outputs": [
    {
     "data": {
      "text/plain": [
       "30.0"
      ]
     },
     "execution_count": 1,
     "metadata": {},
     "output_type": "execute_result"
    }
   ],
   "source": [
    "#find the sum and average of an array element\n",
    "import numpy as np\n",
    "x=np.array([10,20,30,40,50])\n",
    "def avg(x):\n",
    "    l=len(x)\n",
    "    add_all=sum(x)\n",
    "    average=add_all/l\n",
    "    return average\n",
    "avg(x)"
   ]
  },
  {
   "cell_type": "code",
   "execution_count": null,
   "id": "ec0938bc-20e1-4d55-946c-554f9f062d29",
   "metadata": {},
   "outputs": [],
   "source": []
  }
 ],
 "metadata": {
  "kernelspec": {
   "display_name": "Python 3 (ipykernel)",
   "language": "python",
   "name": "python3"
  },
  "language_info": {
   "codemirror_mode": {
    "name": "ipython",
    "version": 3
   },
   "file_extension": ".py",
   "mimetype": "text/x-python",
   "name": "python",
   "nbconvert_exporter": "python",
   "pygments_lexer": "ipython3",
   "version": "3.12.4"
  }
 },
 "nbformat": 4,
 "nbformat_minor": 5
}
